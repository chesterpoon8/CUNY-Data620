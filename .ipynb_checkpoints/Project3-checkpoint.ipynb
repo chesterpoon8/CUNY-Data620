{
 "cells": [
  {
   "cell_type": "markdown",
   "metadata": {},
   "source": [
    "## Loading in our packages\n",
    "\n",
    "Our dataset for names comes from `nltk.corpus`. The other packages we use will help us replicate the methods used in the book as well as to explore the data."
   ]
  },
  {
   "cell_type": "code",
   "execution_count": 1,
   "metadata": {},
   "outputs": [],
   "source": [
    "from nltk.corpus import names\n",
    "import nltk\n",
    "import random\n",
    "import numpy as np\n",
    "import pandas as pd\n",
    "import seaborn as sns\n",
    "import statistics\n",
    "import matplotlib.pyplot as plt"
   ]
  },
  {
   "cell_type": "markdown",
   "metadata": {},
   "source": [
    "## Exploring Our Data\n",
    "First, we'll take a look at some basic information about our dataset. We'll convert our data into formats we can use."
   ]
  },
  {
   "cell_type": "code",
   "execution_count": 2,
   "metadata": {},
   "outputs": [
    {
     "data": {
      "text/html": [
       "<div>\n",
       "<style scoped>\n",
       "    .dataframe tbody tr th:only-of-type {\n",
       "        vertical-align: middle;\n",
       "    }\n",
       "\n",
       "    .dataframe tbody tr th {\n",
       "        vertical-align: top;\n",
       "    }\n",
       "\n",
       "    .dataframe thead th {\n",
       "        text-align: right;\n",
       "    }\n",
       "</style>\n",
       "<table border=\"1\" class=\"dataframe\">\n",
       "  <thead>\n",
       "    <tr style=\"text-align: right;\">\n",
       "      <th></th>\n",
       "      <th>gender</th>\n",
       "    </tr>\n",
       "  </thead>\n",
       "  <tbody>\n",
       "    <tr>\n",
       "      <th>F</th>\n",
       "      <td>5001</td>\n",
       "    </tr>\n",
       "    <tr>\n",
       "      <th>M</th>\n",
       "      <td>2943</td>\n",
       "    </tr>\n",
       "  </tbody>\n",
       "</table>\n",
       "</div>"
      ],
      "text/plain": [
       "   gender\n",
       "F    5001\n",
       "M    2943"
      ]
     },
     "execution_count": 2,
     "metadata": {},
     "output_type": "execute_result"
    }
   ],
   "source": [
    "f = len(names.words('female.txt'))\n",
    "m = len(names.words('male.txt'))\n",
    "\n",
    "#Similiar to the book, we convert the data into a list of tuples.\n",
    "#This also makes it easier to feed into our pandas dataframe below.\n",
    "names = ([(name, 'M') for name in names.words('male.txt')] +\n",
    "         [(name, 'F') for name in names.words('female.txt')])\n",
    "random.shuffle(names)\n",
    "\n",
    "#We also convert to a pandas dataframe for ease of use in exploring our data.\n",
    "names_df = pd.DataFrame(names, columns=['name','gender'])\n",
    "pie = pd.DataFrame(names_df.gender.value_counts())\n",
    "pie"
   ]
  },
  {
   "cell_type": "code",
   "execution_count": 3,
   "metadata": {},
   "outputs": [
    {
     "name": "stdout",
     "output_type": "stream",
     "text": [
      "7944 total names.\n"
     ]
    },
    {
     "data": {
      "image/png": "[encoded data removed]",
      "text/plain": [
       "<Figure size 432x288 with 1 Axes>"
      ]
     },
     "metadata": {},
     "output_type": "display_data"
    }
   ],
   "source": [
    "print(str(m+f) + \" total names.\")\n",
    "pie.plot(kind='pie', y='gender', autopct='%1.2f%%')\n",
    "plt.show()"
   ]
  },
  {
   "cell_type": "markdown",
   "metadata": {},
   "source": [
    "## Developing the Features for Our Model\n",
    "The book first uses only the last letter of a name as a feature. It then uses the last and first letter and then the count of all letters in a name. This led to overfitting the model, so we removed the letter count feature as well as the last letter feature and started with just the last letter of a name. As most supervised learning tasks of this type, there will be some trial and error to find the best model. Let's begin by instantiating a feature constructor.\n",
    "\n",
    "The class we created below instantiates with a default feature of the last letter of the name. It also can return a dictionary of features for a single name we feed into it. This will allow us to classify a single name for later use. We will default with the name \"John\", but this can be repaced.\n",
    "\n",
    "### Create the Feature Constructor"
   ]
  },
  {
   "cell_type": "code",
   "execution_count": 4,
   "metadata": {},
   "outputs": [],
   "source": [
    "class GenFeat:\n",
    "    def __init__(self, names=None, Name=['John','Jane']):\n",
    "        self.featureset = []\n",
    "        self.names = names\n",
    "        self.Name = Name\n",
    "        self.classifierset = []\n",
    "        self.__adding_feat()\n",
    "        \n",
    "    def featuresets(self):\n",
    "        return self.featureset\n",
    "        \n",
    "    def __feat_start(self, name):\n",
    "        features = {}\n",
    "        features[\"lastletter\"] = name[-1].lower()\n",
    "        return features\n",
    "        \n",
    "    def __adding_feat(self):\n",
    "        for (n,g) in self.names:\n",
    "            self.featureset.append((self.__feat_start(n), g))\n",
    "        for n in self.Name:\n",
    "            self.classifierset.append({\"lastletter\": n[-1].lower()})\n",
    "    \n",
    "    def firstletter(self):\n",
    "        for i in range(len(self.names)):\n",
    "            self.featureset[i][0].update({'firstletter': self.names[i][0][0].lower()})\n",
    "        for i in range(len(self.Name)):\n",
    "            self.classifierset[i].update({'firstletter': self.Name[i][0].lower()})\n",
    "    \n",
    "    def length(self):\n",
    "        for i in range(len(self.names)):\n",
    "            self.featureset[i][0].update({'length': len(self.names[i][0])})\n",
    "        for i in range(len(self.Name)):\n",
    "            self.classifierset[i].update({'length': len(self.Name[i])})\n",
    "        \n",
    "    def first2(self):\n",
    "        for i in range(len(self.names)):\n",
    "            self.featureset[i][0].update({'first2': self.names[i][0][:2].lower()})\n",
    "        for i in range(len(self.Name)):\n",
    "            self.classifierset[i].update({'first2': self.Name[i][:2].lower()})\n",
    "        \n",
    "    def last2(self):\n",
    "        for i in range(len(self.names)):\n",
    "            self.featureset[i][0].update({'last2': self.names[i][0][-2:].lower()})\n",
    "        for i in range(len(self.Name)):\n",
    "            self.classifierset[i].update({'last2': self.Name[i][-2:].lower()})\n",
    "        \n",
    "    def first3(self):\n",
    "        for i in range(len(self.names)):\n",
    "            try:\n",
    "                self.featureset[i][0].update({'first3': self.names[i][0][:3].lower()})\n",
    "            except:\n",
    "                self.featureset[i][0].update({'first3': self.names[i][0][:2].lower()})\n",
    "        for i in range(len(self.Name)):\n",
    "            try:\n",
    "                self.classifierset[i].update({'first3': self.Name[i][:3].lower()})\n",
    "            except:\n",
    "                self.classifierset[i].update({'first3': self.Name[i][:2].lower()})\n",
    "        \n",
    "    def last3(self):\n",
    "        for i in range(len(self.names)):\n",
    "            try:\n",
    "                self.featureset[i][0].update({'last3': self.names[i][0][-3:].lower()})\n",
    "            except:\n",
    "                self.featureset[i][0].update({'last3': self.names[i][0][-2:].lower()})\n",
    "        for i in range(len(self.Name)):\n",
    "            try:\n",
    "                self.classifierset[i].update({'last3': self.Name[i][-3:].lower()})\n",
    "            except:\n",
    "                self.classifierset[i].update({'last3': self.Name[i][-2:].lower()})\n",
    "                \n",
    "    def first4(self):\n",
    "        for i in range(len(self.names)):\n",
    "            try:\n",
    "                self.featureset[i][0].update({'first4': self.names[i][0][:4].lower()})\n",
    "            except:\n",
    "                self.featureset[i][0].update({'first4': self.names[i][0][:2].lower()})\n",
    "        for i in range(len(self.Name)):\n",
    "            try:\n",
    "                self.classifierset[i].update({'first4': self.Name[i][:4].lower()})\n",
    "            except:\n",
    "                self.classifierset[i].update({'first4': self.Name[i][:2].lower()})\n",
    "            \n",
    "    def last4(self):\n",
    "        for i in range(len(self.names)):\n",
    "            try:\n",
    "                self.featureset[i][0].update({'last4': self.names[i][0][-4:].lower()})\n",
    "            except:\n",
    "                self.featureset[i][0].update({'last4': self.names[i][0][-2:].lower()})\n",
    "        for i in range(len(self.Name)):\n",
    "            try:\n",
    "                self.classifierset[i].update({'last4': self.Name[i][-4:].lower()})\n",
    "            except:\n",
    "                self.classifierset[i].update({'last4': self.Name[i][-2:].lower()})\n",
    "    \n",
    "    def classify(self):\n",
    "        return self.classifierset"
   ]
  },
  {
   "cell_type": "markdown",
   "metadata": {},
   "source": [
    "Now that our feature constructor is ready, we can build our feature set for each name and feed it into our model. The project instructions request that we split the data into 500 for the test set, 500 for the dev test set, and the remaining names for the training set. We'll also build out our model into a single function.\n",
    "\n",
    "After some testing to see which model would be best, multiple trials suggested that a Naive Bayes classifier would be the most appropriate.\n",
    "\n",
    "### Validating Accuracy\n",
    "After multiple trials of tinkering, we noticed that occasionally on reshuffling of the names, there would be relatively significant discrepancies between our test set and development test set. Typically we should see approximately the same accuracy score for our test set and development test set. In order to determine the best features, we attempted to get a mean accuracy score to evaluate which features would be the most appropriate for our model. More on this soon.\n",
    "\n",
    "Let's first create our function that splits the data, fits to a classifier, and returns an accuracy score.\n"
   ]
  },
  {
   "cell_type": "code",
   "execution_count": 5,
   "metadata": {},
   "outputs": [],
   "source": [
    "def nltk_pred(f):\n",
    "    #Split the data\n",
    "    featuresets = f.featuresets()\n",
    "    train_set, test_set = featuresets[1000:], featuresets[:1000]\n",
    "    a_train_set, a_test_set, a_test_dev_set = featuresets[1000:], featuresets[:500], featuresets[500:1000]\n",
    "    \n",
    "    #Code for applying our method for validating accuracy\n",
    "    classifier = nltk.NaiveBayesClassifier.train(train_set)\n",
    "    acc_score = nltk.classify.accuracy(classifier, test_set)\n",
    "    \n",
    "    #Code for assignment\n",
    "    a_classifier = nltk.NaiveBayesClassifier.train(a_train_set)\n",
    "    a_acc_score = nltk.classify.accuracy(a_classifier, a_test_set)\n",
    "    a_acc_score_dev = nltk.classify.accuracy(classifier, a_test_dev_set)\n",
    "    return classifier, acc_score, a_classifier, a_acc_score, a_acc_score_dev"
   ]
  },
  {
   "cell_type": "markdown",
   "metadata": {},
   "source": [
    "Now we can instantiate our feature constructor and start building out our model. We'll start with the default, which is just the last letter of the names. We'll also load a names list to classify individual names."
   ]
  },
  {
   "cell_type": "code",
   "execution_count": 6,
   "metadata": {},
   "outputs": [],
   "source": [
    "name_list = ['Jane','John','Michael','Michelle','Steven','Laura','Jerry','Joan']\n",
    "f_obj = GenFeat(names=names,Name=name_list)"
   ]
  },
  {
   "cell_type": "markdown",
   "metadata": {},
   "source": [
    "Let's now find the accuracy scores for our test set and our development test set. "
   ]
  },
  {
   "cell_type": "code",
   "execution_count": 7,
   "metadata": {},
   "outputs": [
    {
     "name": "stdout",
     "output_type": "stream",
     "text": [
      "Accuracy score on our test set is 75.0%\n",
      "Accuracy score on our development test set is 77.2%\n"
     ]
    }
   ],
   "source": [
    "print(\"Accuracy score on our test set is \" + str(nltk_pred(f_obj)[3]*100)+\"%\")\n",
    "print(\"Accuracy score on our development test set is \" + str(nltk_pred(f_obj)[4]*100)+\"%\")"
   ]
  },
  {
   "cell_type": "markdown",
   "metadata": {},
   "source": [
    "As expected they are approximately the same, but vary enough where we could probably take a look at a mean accuracy score of our model from our training set."
   ]
  },
  {
   "cell_type": "markdown",
   "metadata": {},
   "source": [
    "### Working with Our Features and Classifying Individual Names\n",
    "\n",
    "We'll create a function here that can classify a list of names we feed into our model. This will also show an accuracy score for a model in its current state."
   ]
  },
  {
   "cell_type": "code",
   "execution_count": 8,
   "metadata": {},
   "outputs": [],
   "source": [
    "acc_score_single = []\n",
    "def classifier(f):\n",
    "    for i in range(len(f.classify())):\n",
    "        print(name_list[i] + \" = \" + nltk_pred(f)[0].classify(f.classify()[i]))\n",
    "    print(\"Accuracy score for this model is \" + str(nltk_pred(f)[1]*100)+\"%\")\n",
    "    print(\"-----------------------------------------------\")\n",
    "    acc_score_single.append(nltk_pred(f)[1])"
   ]
  },
  {
   "cell_type": "markdown",
   "metadata": {},
   "source": [
    "Now that our classifier has been created, let's see how it performs as we add features.\n",
    "\n",
    "#### Default single feature: Last Letter"
   ]
  },
  {
   "cell_type": "code",
   "execution_count": 9,
   "metadata": {},
   "outputs": [
    {
     "name": "stdout",
     "output_type": "stream",
     "text": [
      "Jane = F\n",
      "John = M\n",
      "Michael = M\n",
      "Michelle = F\n",
      "Steven = M\n",
      "Laura = F\n",
      "Jerry = F\n",
      "Joan = M\n",
      "Accuracy score for this model is 76.1%\n",
      "-----------------------------------------------\n"
     ]
    }
   ],
   "source": [
    "classifier(f_obj)"
   ]
  },
  {
   "cell_type": "markdown",
   "metadata": {},
   "source": [
    "Not bad, but we can definitely improve on this model. The model has also incorrectly categorized Joan and Jerry incorrectly. Let's try adding the first letter of each name.\n",
    "\n",
    "#### Features: \n",
    "- Last Letter \n",
    "- First Letter"
   ]
  },
  {
   "cell_type": "code",
   "execution_count": 10,
   "metadata": {},
   "outputs": [
    {
     "name": "stdout",
     "output_type": "stream",
     "text": [
      "Jane = F\n",
      "John = M\n",
      "Michael = F\n",
      "Michelle = F\n",
      "Steven = M\n",
      "Laura = F\n",
      "Jerry = F\n",
      "Joan = M\n",
      "Accuracy score for this model is 78.7%\n",
      "-----------------------------------------------\n"
     ]
    }
   ],
   "source": [
    "f_obj.firstletter()\n",
    "classifier(f_obj)"
   ]
  },
  {
   "cell_type": "markdown",
   "metadata": {},
   "source": [
    "Our accuracy score is better, but for our particular list, we've now incorrectly categorized Michael. \n",
    "Let's keep adding features."
   ]
  },
  {
   "cell_type": "markdown",
   "metadata": {},
   "source": [
    "#### Features\n",
    "- Last Letter\n",
    "- First Letter\n",
    "- First 2 Letters"
   ]
  },
  {
   "cell_type": "code",
   "execution_count": 11,
   "metadata": {},
   "outputs": [
    {
     "name": "stdout",
     "output_type": "stream",
     "text": [
      "Jane = F\n",
      "John = F\n",
      "Michael = F\n",
      "Michelle = F\n",
      "Steven = M\n",
      "Laura = F\n",
      "Jerry = F\n",
      "Joan = F\n",
      "Accuracy score for this model is 79.80000000000001%\n",
      "-----------------------------------------------\n"
     ]
    }
   ],
   "source": [
    "f_obj.first2()\n",
    "classifier(f_obj)"
   ]
  },
  {
   "cell_type": "markdown",
   "metadata": {},
   "source": [
    "#### Features\n",
    "- Last Letter\n",
    "- First Letter\n",
    "- First 2 Letters\n",
    "- Last 2 Letters"
   ]
  },
  {
   "cell_type": "code",
   "execution_count": 12,
   "metadata": {},
   "outputs": [
    {
     "name": "stdout",
     "output_type": "stream",
     "text": [
      "Jane = F\n",
      "John = M\n",
      "Michael = F\n",
      "Michelle = F\n",
      "Steven = M\n",
      "Laura = F\n",
      "Jerry = M\n",
      "Joan = M\n",
      "Accuracy score for this model is 80.80000000000001%\n",
      "-----------------------------------------------\n"
     ]
    }
   ],
   "source": [
    "f_obj.last2()\n",
    "classifier(f_obj)"
   ]
  },
  {
   "cell_type": "markdown",
   "metadata": {},
   "source": [
    "#### Features\n",
    "- Last Letter\n",
    "- First Letter\n",
    "- First 2 Letters\n",
    "- Last 2 Letters\n",
    "- First 3 Letters"
   ]
  },
  {
   "cell_type": "code",
   "execution_count": 13,
   "metadata": {},
   "outputs": [
    {
     "name": "stdout",
     "output_type": "stream",
     "text": [
      "Jane = F\n",
      "John = M\n",
      "Michael = M\n",
      "Michelle = F\n",
      "Steven = M\n",
      "Laura = F\n",
      "Jerry = M\n",
      "Joan = M\n",
      "Accuracy score for this model is 82.8%\n",
      "-----------------------------------------------\n"
     ]
    }
   ],
   "source": [
    "f_obj.first3()\n",
    "classifier(f_obj)"
   ]
  },
  {
   "cell_type": "markdown",
   "metadata": {},
   "source": [
    "#### Features\n",
    "- Last Letter\n",
    "- First Letter\n",
    "- First 2 Letters\n",
    "- Last 2 Letters\n",
    "- First 3 Letters\n",
    "- Last 3 Letters"
   ]
  },
  {
   "cell_type": "code",
   "execution_count": 14,
   "metadata": {},
   "outputs": [
    {
     "name": "stdout",
     "output_type": "stream",
     "text": [
      "Jane = F\n",
      "John = M\n",
      "Michael = M\n",
      "Michelle = F\n",
      "Steven = M\n",
      "Laura = F\n",
      "Jerry = M\n",
      "Joan = M\n",
      "Accuracy score for this model is 82.8%\n",
      "-----------------------------------------------\n"
     ]
    }
   ],
   "source": [
    "f_obj.last3()\n",
    "classifier(f_obj)"
   ]
  },
  {
   "cell_type": "markdown",
   "metadata": {},
   "source": [
    "#### Features\n",
    "- Last Letter\n",
    "- First Letter\n",
    "- First 2 Letters\n",
    "- Last 2 Letters\n",
    "- First 3 Letters\n",
    "- Last 3 Letters\n",
    "- First 4 Letters"
   ]
  },
  {
   "cell_type": "code",
   "execution_count": 15,
   "metadata": {},
   "outputs": [
    {
     "name": "stdout",
     "output_type": "stream",
     "text": [
      "Jane = F\n",
      "John = M\n",
      "Michael = M\n",
      "Michelle = F\n",
      "Steven = M\n",
      "Laura = F\n",
      "Jerry = M\n",
      "Joan = F\n",
      "Accuracy score for this model is 84.5%\n",
      "-----------------------------------------------\n"
     ]
    }
   ],
   "source": [
    "f_obj.first4()\n",
    "classifier(f_obj)"
   ]
  },
  {
   "cell_type": "markdown",
   "metadata": {},
   "source": [
    "The names in our list are all now correctly classified and we now have a decent accuracy score. We didn't add the length feature or the last 4 letters feature primarily due to overfitting.\n",
    "\n",
    "Let's take a quick look to see how our model improved with each added feature."
   ]
  },
  {
   "cell_type": "code",
   "execution_count": 16,
   "metadata": {},
   "outputs": [
    {
     "data": {
      "text/html": [
       "<div>\n",
       "<style scoped>\n",
       "    .dataframe tbody tr th:only-of-type {\n",
       "        vertical-align: middle;\n",
       "    }\n",
       "\n",
       "    .dataframe tbody tr th {\n",
       "        vertical-align: top;\n",
       "    }\n",
       "\n",
       "    .dataframe thead th {\n",
       "        text-align: right;\n",
       "    }\n",
       "</style>\n",
       "<table border=\"1\" class=\"dataframe\">\n",
       "  <thead>\n",
       "    <tr style=\"text-align: right;\">\n",
       "      <th></th>\n",
       "      <th>score</th>\n",
       "      <th>No. of Features</th>\n",
       "    </tr>\n",
       "  </thead>\n",
       "  <tbody>\n",
       "    <tr>\n",
       "      <th>0</th>\n",
       "      <td>0.761</td>\n",
       "      <td>1</td>\n",
       "    </tr>\n",
       "    <tr>\n",
       "      <th>1</th>\n",
       "      <td>0.787</td>\n",
       "      <td>2</td>\n",
       "    </tr>\n",
       "    <tr>\n",
       "      <th>2</th>\n",
       "      <td>0.798</td>\n",
       "      <td>3</td>\n",
       "    </tr>\n",
       "    <tr>\n",
       "      <th>3</th>\n",
       "      <td>0.808</td>\n",
       "      <td>4</td>\n",
       "    </tr>\n",
       "    <tr>\n",
       "      <th>4</th>\n",
       "      <td>0.828</td>\n",
       "      <td>5</td>\n",
       "    </tr>\n",
       "    <tr>\n",
       "      <th>5</th>\n",
       "      <td>0.828</td>\n",
       "      <td>6</td>\n",
       "    </tr>\n",
       "    <tr>\n",
       "      <th>6</th>\n",
       "      <td>0.845</td>\n",
       "      <td>7</td>\n",
       "    </tr>\n",
       "  </tbody>\n",
       "</table>\n",
       "</div>"
      ],
      "text/plain": [
       "   score  No. of Features\n",
       "0  0.761                1\n",
       "1  0.787                2\n",
       "2  0.798                3\n",
       "3  0.808                4\n",
       "4  0.828                5\n",
       "5  0.828                6\n",
       "6  0.845                7"
      ]
     },
     "execution_count": 16,
     "metadata": {},
     "output_type": "execute_result"
    },
    {
     "data": {
      "image/png": "[encoded data removed]",
      "text/plain": [
       "<Figure size 432x288 with 1 Axes>"
      ]
     },
     "metadata": {
      "needs_background": "light"
     },
     "output_type": "display_data"
    }
   ],
   "source": [
    "def acc_plot_single():\n",
    "    improvements = pd.DataFrame(acc_score_single, columns=['score'])\n",
    "    improvements['No. of Features'] = improvements.index + 1\n",
    "    sns.lineplot(x=improvements['No. of Features'], \n",
    "                 y=improvements.score)\n",
    "    return improvements\n",
    "    plt.show()\n",
    "\n",
    "acc_plot_single()"
   ]
  },
  {
   "cell_type": "markdown",
   "metadata": {},
   "source": [
    "### Different Shufflings of Dataset Affecting Model Quality\n",
    "\n",
    "A problem that we ran into was the variance involved with our accuracy scores while testing our model. To get a clearer idea of what features to include we only included features that made an improvement to our mean accuracy score. We applied a random shuffling of our dataset 500 times to get a decent idea of the distribution of accuracy scores and calculated our mean from this."
   ]
  },
  {
   "cell_type": "code",
   "execution_count": 17,
   "metadata": {},
   "outputs": [],
   "source": [
    "#Function created to reduce line count below\n",
    "def acc_plot():\n",
    "    plt.title(\"Mean Accuracy Score of 500 models generated: \" + \n",
    "              str(statistics.mean(nltk_nb_scores)*100)+\"%\")\n",
    "    sns.distplot(nltk_nb_scores,bins=15)\n",
    "    plt.show()\n",
    "\n",
    "acc_score_single = []"
   ]
  },
  {
   "cell_type": "markdown",
   "metadata": {},
   "source": [
    "#### Features\n",
    "- Last Letter"
   ]
  },
  {
   "cell_type": "code",
   "execution_count": 18,
   "metadata": {},
   "outputs": [
    {
     "data": {
      "image/png": "[encoded data removed]",
      "text/plain": [
       "<Figure size 432x288 with 1 Axes>"
      ]
     },
     "metadata": {
      "needs_background": "light"
     },
     "output_type": "display_data"
    }
   ],
   "source": [
    "nltk_nb_scores = []\n",
    "#Reshuffle the names each time to find distribution of accuracy scores\n",
    "for i in range(500):\n",
    "    random.shuffle(names)\n",
    "    f_samp = GenFeat(names=names)\n",
    "    nltk_nb_scores.append(nltk_pred(f_samp)[1])\n",
    "\n",
    "acc_score_single.append(statistics.mean(nltk_nb_scores))\n",
    "acc_plot()"
   ]
  },
  {
   "cell_type": "markdown",
   "metadata": {},
   "source": [
    "#### Features\n",
    "- Last Letter\n",
    "- First Letter"
   ]
  },
  {
   "cell_type": "code",
   "execution_count": 19,
   "metadata": {},
   "outputs": [
    {
     "data": {
      "image/png": "[encoded data removed]",
      "text/plain": [
       "<Figure size 432x288 with 1 Axes>"
      ]
     },
     "metadata": {
      "needs_background": "light"
     },
     "output_type": "display_data"
    }
   ],
   "source": [
    "nltk_nb_scores = []\n",
    "#Reshuffle the names each time to find distribution of accuracy scores\n",
    "for i in range(500):\n",
    "    random.shuffle(names)\n",
    "    f_samp = GenFeat(names=names)\n",
    "    f_samp.firstletter()\n",
    "    nltk_nb_scores.append(nltk_pred(f_samp)[1])\n",
    "\n",
    "acc_score_single.append(statistics.mean(nltk_nb_scores))\n",
    "acc_plot()"
   ]
  },
  {
   "cell_type": "markdown",
   "metadata": {},
   "source": [
    "#### Features\n",
    "- Last Letter\n",
    "- First Letter\n",
    "- First 2 Letters"
   ]
  },
  {
   "cell_type": "code",
   "execution_count": 20,
   "metadata": {},
   "outputs": [
    {
     "data": {
      "image/png": "[encoded data removed]",
      "text/plain": [
       "<Figure size 432x288 with 1 Axes>"
      ]
     },
     "metadata": {
      "needs_background": "light"
     },
     "output_type": "display_data"
    }
   ],
   "source": [
    "nltk_nb_scores = []\n",
    "#Reshuffle the names each time to find distribution of accuracy scores\n",
    "for i in range(500):\n",
    "    random.shuffle(names)\n",
    "    f_samp = GenFeat(names=names)\n",
    "    f_samp.firstletter()\n",
    "    f_samp.first2()\n",
    "    nltk_nb_scores.append(nltk_pred(f_samp)[1])\n",
    "    \n",
    "acc_score_single.append(statistics.mean(nltk_nb_scores))\n",
    "acc_plot()"
   ]
  },
  {
   "cell_type": "markdown",
   "metadata": {},
   "source": [
    "#### Features\n",
    "- Last Letter\n",
    "- First Letter\n",
    "- First 2 Letters\n",
    "- Last 2 Letters"
   ]
  },
  {
   "cell_type": "code",
   "execution_count": 21,
   "metadata": {},
   "outputs": [
    {
     "data": {
      "image/png": "[encoded data removed]",
      "text/plain": [
       "<Figure size 432x288 with 1 Axes>"
      ]
     },
     "metadata": {
      "needs_background": "light"
     },
     "output_type": "display_data"
    }
   ],
   "source": [
    "nltk_nb_scores = []\n",
    "#Reshuffle the names each time to find distribution of accuracy scores\n",
    "for i in range(500):\n",
    "    random.shuffle(names)\n",
    "    f_samp = GenFeat(names=names)\n",
    "    f_samp.firstletter()\n",
    "    f_samp.first2()\n",
    "    f_samp.last2()\n",
    "    nltk_nb_scores.append(nltk_pred(f_samp)[1])\n",
    "\n",
    "acc_score_single.append(statistics.mean(nltk_nb_scores))\n",
    "acc_plot()"
   ]
  },
  {
   "cell_type": "markdown",
   "metadata": {},
   "source": [
    "#### Features\n",
    "- Last Letter\n",
    "- First Letter\n",
    "- First 2 Letters\n",
    "- Last 2 Letters\n",
    "- First 3 Letters"
   ]
  },
  {
   "cell_type": "code",
   "execution_count": 22,
   "metadata": {},
   "outputs": [
    {
     "data": {
      "image/png": "[encoded data removed]",
      "text/plain": [
       "<Figure size 432x288 with 1 Axes>"
      ]
     },
     "metadata": {
      "needs_background": "light"
     },
     "output_type": "display_data"
    }
   ],
   "source": [
    "nltk_nb_scores = []\n",
    "#Reshuffle the names each time to find distribution of accuracy scores\n",
    "for i in range(500):\n",
    "    random.shuffle(names)\n",
    "    f_samp = GenFeat(names=names)\n",
    "    f_samp.firstletter()\n",
    "    f_samp.first2()\n",
    "    f_samp.last2()\n",
    "    f_samp.first3()\n",
    "    nltk_nb_scores.append(nltk_pred(f_samp)[1])\n",
    "    \n",
    "acc_score_single.append(statistics.mean(nltk_nb_scores))\n",
    "acc_plot()"
   ]
  },
  {
   "cell_type": "markdown",
   "metadata": {},
   "source": [
    "#### Features\n",
    "- Last Letter\n",
    "- First Letter\n",
    "- First 2 Letters\n",
    "- Last 2 Letters\n",
    "- First 3 Letters\n",
    "- Last 3 Letters"
   ]
  },
  {
   "cell_type": "code",
   "execution_count": 23,
   "metadata": {},
   "outputs": [
    {
     "data": {
      "image/png": "[encoded data removed]",
      "text/plain": [
       "<Figure size 432x288 with 1 Axes>"
      ]
     },
     "metadata": {
      "needs_background": "light"
     },
     "output_type": "display_data"
    }
   ],
   "source": [
    "nltk_nb_scores = []\n",
    "#Reshuffle the names each time to find distribution of accuracy scores\n",
    "for i in range(500):\n",
    "    random.shuffle(names)\n",
    "    f_samp = GenFeat(names=names)\n",
    "    f_samp.firstletter()\n",
    "    f_samp.first2()\n",
    "    f_samp.last2()\n",
    "    f_samp.first3()\n",
    "    f_samp.last3()\n",
    "    nltk_nb_scores.append(nltk_pred(f_samp)[1])\n",
    "    \n",
    "acc_score_single.append(statistics.mean(nltk_nb_scores))\n",
    "acc_plot()"
   ]
  },
  {
   "cell_type": "markdown",
   "metadata": {},
   "source": [
    "#### Features\n",
    "- Last Letter\n",
    "- First Letter\n",
    "- First 2 Letters\n",
    "- Last 2 Letters\n",
    "- First 3 Letters\n",
    "- Last 3 Letters\n",
    "- First 4 Letters"
   ]
  },
  {
   "cell_type": "code",
   "execution_count": 24,
   "metadata": {},
   "outputs": [
    {
     "data": {
      "image/png": "[encoded data removed]",
      "text/plain": [
       "<Figure size 432x288 with 1 Axes>"
      ]
     },
     "metadata": {
      "needs_background": "light"
     },
     "output_type": "display_data"
    }
   ],
   "source": [
    "nltk_nb_scores = []\n",
    "#Reshuffle the names each time to find distribution of accuracy scores\n",
    "for i in range(500):\n",
    "    random.shuffle(names)\n",
    "    f_samp = GenFeat(names=names)\n",
    "    f_samp.firstletter()\n",
    "    f_samp.first2()\n",
    "    f_samp.last2()\n",
    "    f_samp.first3()\n",
    "    f_samp.last3()\n",
    "    f_samp.first4()\n",
    "    nltk_nb_scores.append(nltk_pred(f_samp)[1])\n",
    "    \n",
    "acc_score_single.append(statistics.mean(nltk_nb_scores))\n",
    "acc_plot()"
   ]
  },
  {
   "cell_type": "markdown",
   "metadata": {},
   "source": [
    "As before, we'll take a quick look to see how the mean accuracy score improved with each added feature."
   ]
  },
  {
   "cell_type": "code",
   "execution_count": 25,
   "metadata": {},
   "outputs": [
    {
     "data": {
      "text/html": [
       "<div>\n",
       "<style scoped>\n",
       "    .dataframe tbody tr th:only-of-type {\n",
       "        vertical-align: middle;\n",
       "    }\n",
       "\n",
       "    .dataframe tbody tr th {\n",
       "        vertical-align: top;\n",
       "    }\n",
       "\n",
       "    .dataframe thead th {\n",
       "        text-align: right;\n",
       "    }\n",
       "</style>\n",
       "<table border=\"1\" class=\"dataframe\">\n",
       "  <thead>\n",
       "    <tr style=\"text-align: right;\">\n",
       "      <th></th>\n",
       "      <th>score</th>\n",
       "      <th>No. of Features</th>\n",
       "    </tr>\n",
       "  </thead>\n",
       "  <tbody>\n",
       "    <tr>\n",
       "      <th>0</th>\n",
       "      <td>0.760504</td>\n",
       "      <td>1</td>\n",
       "    </tr>\n",
       "    <tr>\n",
       "      <th>1</th>\n",
       "      <td>0.774452</td>\n",
       "      <td>2</td>\n",
       "    </tr>\n",
       "    <tr>\n",
       "      <th>2</th>\n",
       "      <td>0.778536</td>\n",
       "      <td>3</td>\n",
       "    </tr>\n",
       "    <tr>\n",
       "      <th>3</th>\n",
       "      <td>0.803366</td>\n",
       "      <td>4</td>\n",
       "    </tr>\n",
       "    <tr>\n",
       "      <th>4</th>\n",
       "      <td>0.829216</td>\n",
       "      <td>5</td>\n",
       "    </tr>\n",
       "    <tr>\n",
       "      <th>5</th>\n",
       "      <td>0.837090</td>\n",
       "      <td>6</td>\n",
       "    </tr>\n",
       "    <tr>\n",
       "      <th>6</th>\n",
       "      <td>0.849876</td>\n",
       "      <td>7</td>\n",
       "    </tr>\n",
       "  </tbody>\n",
       "</table>\n",
       "</div>"
      ],
      "text/plain": [
       "      score  No. of Features\n",
       "0  0.760504                1\n",
       "1  0.774452                2\n",
       "2  0.778536                3\n",
       "3  0.803366                4\n",
       "4  0.829216                5\n",
       "5  0.837090                6\n",
       "6  0.849876                7"
      ]
     },
     "execution_count": 25,
     "metadata": {},
     "output_type": "execute_result"
    },
    {
     "data": {
      "image/png": "[encoded data removed]",
      "text/plain": [
       "<Figure size 432x288 with 1 Axes>"
      ]
     },
     "metadata": {
      "needs_background": "light"
     },
     "output_type": "display_data"
    }
   ],
   "source": [
    "acc_plot_single()"
   ]
  },
  {
   "cell_type": "markdown",
   "metadata": {},
   "source": [
    "### Conclusion\n",
    "\n",
    "To briefly recap, the features we added that were effective in improving the model are:\n",
    "- Last Letter\n",
    "- First Letter\n",
    "- First 2 Letters\n",
    "- Last 2 Letters\n",
    "- First 3 Letters\n",
    "- Last 3 Letters\n",
    "- First 4 Letters\n",
    "\n",
    "It can be argued that the increase in score from adding the `First 2 Letters` feature is so negligible, that it could be removed. From our testing of 500 different models on randomized names, we were able to determine that although the improvement was small, it was still a consistent improvement and would make sense to include it. Our accuracy score for our model with the features listed above is approximately 85%."
   ]
  },
  {
   "cell_type": "code",
   "execution_count": null,
   "metadata": {},
   "outputs": [],
   "source": []
  }
 ],
 "metadata": {
  "kernelspec": {
   "display_name": "Python 3",
   "language": "python",
   "name": "python3"
  },
  "language_info": {
   "codemirror_mode": {
    "name": "ipython",
    "version": 3
   },
   "file_extension": ".py",
   "mimetype": "text/x-python",
   "name": "python",
   "nbconvert_exporter": "python",
   "pygments_lexer": "ipython3",
   "version": "3.7.2"
  }
 },
 "nbformat": 4,
 "nbformat_minor": 2
}
