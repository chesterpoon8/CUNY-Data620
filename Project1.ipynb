{
 "cells": [
  {
   "cell_type": "code",
   "execution_count": 1,
   "metadata": {},
   "outputs": [],
   "source": [
    "import networkx as nx\n",
    "import matplotlib.pyplot as plt\n",
    "import pandas as pd"
   ]
  },
  {
   "cell_type": "code",
   "execution_count": 2,
   "metadata": {},
   "outputs": [],
   "source": [
    "names=[\"0\",\"107\",\"1684\",\"1912\",\"3437\",'348',\"3980\",\"414\",\"686\",\"698\"]\n",
    "feat_file_names= ['facebook/'+x+\".feat\" for x in names]\n",
    "featnames_filenames=['facebook/'+x+\".featnames\" for x in names]"
   ]
  },
  {
   "cell_type": "code",
   "execution_count": 3,
   "metadata": {},
   "outputs": [],
   "source": [
    "for n in range(len(feat_file_names)):\n",
    "    df = pd.read_csv(feat_file_names[n],header=None, sep=' ')\n",
    "    if n==0:\n",
    "        nodes_df = df[0]\n",
    "    else: \n",
    "        nodes_df = pd.concat([nodes_df,df[0]])\n",
    "nodes_df = nodes_df.drop_duplicates()"
   ]
  },
  {
   "cell_type": "code",
   "execution_count": 4,
   "metadata": {},
   "outputs": [],
   "source": [
    "df_list = []\n",
    "for i in range(len(feat_file_names)):\n",
    "    c_df = pd.read_csv(feat_file_names[i], header=None, sep=' ')\n",
    "    c = pd.read_csv(featnames_filenames[i], header=None,)[0].tolist()\n",
    "    c2 = []\n",
    "    for j in range(len(c)):\n",
    "        c2.append(' '.join(c[j].split(' ')[1:]))\n",
    "    nodes = c_df[0].tolist()\n",
    "    c_df = c_df.drop(columns=[0])\n",
    "    c = {v: k for v, k in enumerate(c2,1)}\n",
    "    c_df = c_df.rename(columns=c)\n",
    "    c_df.index = nodes\n",
    "    df_list.append(c_df)"
   ]
  },
  {
   "cell_type": "code",
   "execution_count": 5,
   "metadata": {},
   "outputs": [],
   "source": [
    "my_nodes={}\n",
    "for node in range(1,4036):\n",
    "    my_nodes.setdefault(node, [])\n",
    "\n",
    "for x in df_list:\n",
    "    for node in range(1,4036):\n",
    "        for i in x.index:\n",
    "            if i==node:\n",
    "                my_nodes[node].append(x.loc[node,])\n"
   ]
  },
  {
   "cell_type": "code",
   "execution_count": 52,
   "metadata": {},
   "outputs": [
    {
     "name": "stdout",
     "output_type": "stream",
     "text": [
      "686\n",
      "1912\n",
      "3437\n",
      "3980\n"
     ]
    }
   ],
   "source": [
    "for i in range(1,len(my_nodes)+1):\n",
    "    if my_nodes[i] == []:\n",
    "        print(i)"
   ]
  },
  {
   "cell_type": "code",
   "execution_count": 41,
   "metadata": {},
   "outputs": [
    {
     "data": {
      "image/png": "[encoded data removed]",
      "text/plain": [
       "<Figure size 432x288 with 1 Axes>"
      ]
     },
     "metadata": {
      "needs_background": "light"
     },
     "output_type": "display_data"
    }
   ],
   "source": [
    "#Create our graph object and display\n",
    "F = nx.read_edgelist('facebook_combined.txt',\n",
    "                     create_using=nx.Graph(),\n",
    "                     nodetype=int)\n",
    "\n",
    "for i in range(1,len(my_nodes)+1):\n",
    "    try:        \n",
    "        for j in range(len(my_nodes[i][0])):\n",
    "            if my_nodes[i][0].values[j]==1:\n",
    "                a = ' '.join(' '.join(my_nodes[i][0].index[j].split(' ')[:-2]).split(';')[:-1])\n",
    "                F.nodes[i][a] = my_nodes[i][0].index[j].split(' ')[-1]\n",
    "    except:\n",
    "        pass\n",
    "\n",
    "plt.axis('off')\n",
    "nx.draw_networkx(F, with_labels=False, node_size=20) "
   ]
  },
  {
   "cell_type": "code",
   "execution_count": 49,
   "metadata": {},
   "outputs": [
    {
     "data": {
      "text/plain": [
       "{}"
      ]
     },
     "execution_count": 49,
     "metadata": {},
     "output_type": "execute_result"
    }
   ],
   "source": [
    "F.nodes[686]"
   ]
  },
  {
   "cell_type": "code",
   "execution_count": null,
   "metadata": {},
   "outputs": [],
   "source": []
  }
 ],
 "metadata": {
  "kernelspec": {
   "display_name": "Python 3",
   "language": "python",
   "name": "python3"
  },
  "language_info": {
   "codemirror_mode": {
    "name": "ipython",
    "version": 3
   },
   "file_extension": ".py",
   "mimetype": "text/x-python",
   "name": "python",
   "nbconvert_exporter": "python",
   "pygments_lexer": "ipython3",
   "version": "3.7.2"
  }
 },
 "nbformat": 4,
 "nbformat_minor": 2
}
