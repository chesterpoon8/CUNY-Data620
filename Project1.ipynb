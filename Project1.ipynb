{
 "cells": [
  {
   "cell_type": "code",
   "execution_count": 1,
   "metadata": {},
   "outputs": [],
   "source": [
    "import networkx as nx\n",
    "import matplotlib.pyplot as plt\n",
    "import pandas as pd"
   ]
  },
  {
   "cell_type": "code",
   "execution_count": 2,
   "metadata": {},
   "outputs": [],
   "source": [
    "names=[\"0\",\"107\",\"1684\",\"1912\",\"3437\",'348',\"3980\",\"414\",\"686\",\"698\"]\n",
    "feat_file_names= ['facebook/'+x+\".feat\" for x in names]\n",
    "featnames_filenames=['facebook/'+x+\".featnames\" for x in names]"
   ]
  },
  {
   "cell_type": "code",
   "execution_count": 3,
   "metadata": {},
   "outputs": [],
   "source": [
    "for n in range(len(feat_file_names)):\n",
    "    df = pd.read_csv(feat_file_names[n],header=None, sep=' ')\n",
    "    if n==0:\n",
    "        nodes_df = df[0]\n",
    "    else: \n",
    "        nodes_df = pd.concat([nodes_df,df[0]])\n",
    "nodes_df = nodes_df.drop_duplicates()"
   ]
  },
  {
   "cell_type": "code",
   "execution_count": 65,
   "metadata": {},
   "outputs": [
    {
     "data": {
      "text/plain": [
       "10"
      ]
     },
     "execution_count": 65,
     "metadata": {},
     "output_type": "execute_result"
    }
   ],
   "source": [
    "df_list = []\n",
    "for i in range(len(feat_file_names)):\n",
    "    #1st df\n",
    "    c_df = pd.read_csv(feat_file_names[i], header=None, sep=' ')\n",
    "    c = pd.read_csv(featnames_filenames[i], header=None,)[0].tolist()\n",
    "    c2 = []\n",
    "    for j in range(len(c)):\n",
    "        c2.append(' '.join(c[j].split(' ')[1:]))\n",
    "    nodes = c_df[0].tolist()\n",
    "    c_df = c_df.drop(columns=[0])\n",
    "    c = {v: k for v, k in enumerate(c2,1)}\n",
    "    c_df = c_df.rename(columns=c)\n",
    "    c_df.index = nodes\n",
    "    df_list.append(c_df)\n",
    "\n",
    "len(df_list)"
   ]
  },
  {
   "cell_type": "code",
   "execution_count": 67,
   "metadata": {},
   "outputs": [],
   "source": [
    "my_nodes={}\n",
    "for node in range(1,4036):\n",
    "    my_nodes.setdefault(node, [])\n",
    "\n",
    "for x in df_list:\n",
    "    for node in range(1,4036):\n",
    "        for i in x.index:\n",
    "            if i==node:\n",
    "                my_nodes[node].append(x.loc[node,])\n"
   ]
  },
  {
   "cell_type": "code",
   "execution_count": 96,
   "metadata": {},
   "outputs": [
    {
     "data": {
      "text/plain": [
       "birthday;anonymized feature 729                0\n",
       "birthday;anonymized feature 730                0\n",
       "birthday;anonymized feature 731                0\n",
       "birthday;anonymized feature 732                0\n",
       "birthday;anonymized feature 1                  0\n",
       "birthday;anonymized feature 2                  0\n",
       "birthday;anonymized feature 210                0\n",
       "birthday;anonymized feature 4                  0\n",
       "birthday;anonymized feature 5                  1\n",
       "birthday;anonymized feature 6                  0\n",
       "birthday;anonymized feature 7                  0\n",
       "birthday;anonymized feature 377                0\n",
       "birthday;anonymized feature 378                0\n",
       "birthday;anonymized feature 733                0\n",
       "birthday;anonymized feature 734                0\n",
       "birthday;anonymized feature 735                0\n",
       "birthday;anonymized feature 736                0\n",
       "birthday;anonymized feature 737                0\n",
       "birthday;anonymized feature 738                0\n",
       "birthday;anonymized feature 739                0\n",
       "birthday;anonymized feature 740                0\n",
       "birthday;anonymized feature 741                0\n",
       "education;classes;id;anonymized feature 742    0\n",
       "education;classes;id;anonymized feature 743    0\n",
       "education;classes;id;anonymized feature 744    0\n",
       "education;classes;id;anonymized feature 745    0\n",
       "education;classes;id;anonymized feature 746    0\n",
       "education;classes;id;anonymized feature 747    0\n",
       "education;classes;id;anonymized feature 748    0\n",
       "education;classes;id;anonymized feature 749    0\n",
       "                                              ..\n",
       "work;projects;id;anonymized feature 999        0\n",
       "work;start_date;anonymized feature 157         0\n",
       "work;start_date;anonymized feature 310         0\n",
       "work;start_date;anonymized feature 976         0\n",
       "work;start_date;anonymized feature 196         0\n",
       "work;start_date;anonymized feature 1000        0\n",
       "work;start_date;anonymized feature 160         0\n",
       "work;start_date;anonymized feature 197         0\n",
       "work;start_date;anonymized feature 161         0\n",
       "work;start_date;anonymized feature 162         0\n",
       "work;start_date;anonymized feature 723         0\n",
       "work;start_date;anonymized feature 1001        0\n",
       "work;start_date;anonymized feature 198         0\n",
       "work;start_date;anonymized feature 724         0\n",
       "work;start_date;anonymized feature 1002        0\n",
       "work;start_date;anonymized feature 164         1\n",
       "work;start_date;anonymized feature 199         0\n",
       "work;start_date;anonymized feature 165         0\n",
       "work;start_date;anonymized feature 166         0\n",
       "work;start_date;anonymized feature 200         0\n",
       "work;start_date;anonymized feature 725         0\n",
       "work;start_date;anonymized feature 201         1\n",
       "work;start_date;anonymized feature 332         0\n",
       "work;start_date;anonymized feature 726         0\n",
       "work;start_date;anonymized feature 680         1\n",
       "work;start_date;anonymized feature 168         0\n",
       "work;start_date;anonymized feature 202         0\n",
       "work;start_date;anonymized feature 169         0\n",
       "work;start_date;anonymized feature 170         0\n",
       "work;start_date;anonymized feature 681         0\n",
       "Name: 2500, Length: 480, dtype: int64"
      ]
     },
     "execution_count": 96,
     "metadata": {},
     "output_type": "execute_result"
    }
   ],
   "source": [
    "my_nodes[2500][0]"
   ]
  },
  {
   "cell_type": "code",
   "execution_count": 89,
   "metadata": {},
   "outputs": [
    {
     "data": {
      "text/plain": [
       "['birthday',\n",
       " 'education classes id',\n",
       " 'education concentration id',\n",
       " 'education degree id',\n",
       " 'education school id',\n",
       " 'education type',\n",
       " 'education with id',\n",
       " 'education year id',\n",
       " 'first_name',\n",
       " 'gender',\n",
       " 'hometown id',\n",
       " 'languages id',\n",
       " 'last_name',\n",
       " 'locale',\n",
       " 'location id',\n",
       " 'work employer id',\n",
       " 'work end_date',\n",
       " 'work location id',\n",
       " 'work position id',\n",
       " 'work start_date',\n",
       " 'work with id',\n",
       " 'middle_name',\n",
       " 'work from id',\n",
       " 'work projects id',\n",
       " 'religion',\n",
       " 'name',\n",
       " 'political']"
      ]
     },
     "execution_count": 89,
     "metadata": {},
     "output_type": "execute_result"
    }
   ],
   "source": [
    "var = []\n",
    "var1 = []\n",
    "for i in range(len(featnames_filenames)):\n",
    "    c = pd.read_csv(featnames_filenames[i], header=None,)[0].tolist()\n",
    "    for j in range(len(c)):\n",
    "        var1.append(' '.join(c[j].split(' ')[1:-2]))\n",
    "    for v in range(len(var1)):\n",
    "        var.append(' '.join(var1[v].split(';')[:-1]))\n",
    "var = pd.Series(var).unique().tolist()\n",
    "var"
   ]
  },
  {
   "cell_type": "code",
   "execution_count": 90,
   "metadata": {},
   "outputs": [
    {
     "data": {
      "text/plain": [
       "0       1\n",
       "1       2\n",
       "2       3\n",
       "3       4\n",
       "4       5\n",
       "5       6\n",
       "6       7\n",
       "7       8\n",
       "8       9\n",
       "9      10\n",
       "10     11\n",
       "11     12\n",
       "12     13\n",
       "13     14\n",
       "14     15\n",
       "15     16\n",
       "16     17\n",
       "17     18\n",
       "18     19\n",
       "19     20\n",
       "20     21\n",
       "21     22\n",
       "22     23\n",
       "23     24\n",
       "24     25\n",
       "25     26\n",
       "26     27\n",
       "27     28\n",
       "28     29\n",
       "29     30\n",
       "     ... \n",
       "14    866\n",
       "15    867\n",
       "17    868\n",
       "18    869\n",
       "21    870\n",
       "23    871\n",
       "24    872\n",
       "26    873\n",
       "28    874\n",
       "30    875\n",
       "32    876\n",
       "36    877\n",
       "37    878\n",
       "38    879\n",
       "39    880\n",
       "40    881\n",
       "41    882\n",
       "42    883\n",
       "43    884\n",
       "45    885\n",
       "48    886\n",
       "49    887\n",
       "50    888\n",
       "53    889\n",
       "54    890\n",
       "57    891\n",
       "58    892\n",
       "60    893\n",
       "62    894\n",
       "64    895\n",
       "Name: 0, Length: 4035, dtype: int64"
      ]
     },
     "execution_count": 90,
     "metadata": {},
     "output_type": "execute_result"
    }
   ],
   "source": [
    "nodes_df"
   ]
  },
  {
   "cell_type": "code",
   "execution_count": null,
   "metadata": {},
   "outputs": [],
   "source": []
  }
 ],
 "metadata": {
  "kernelspec": {
   "display_name": "Python 3",
   "language": "python",
   "name": "python3"
  },
  "language_info": {
   "codemirror_mode": {
    "name": "ipython",
    "version": 3
   },
   "file_extension": ".py",
   "mimetype": "text/x-python",
   "name": "python",
   "nbconvert_exporter": "python",
   "pygments_lexer": "ipython3",
   "version": "3.7.2"
  }
 },
 "nbformat": 4,
 "nbformat_minor": 2
}
